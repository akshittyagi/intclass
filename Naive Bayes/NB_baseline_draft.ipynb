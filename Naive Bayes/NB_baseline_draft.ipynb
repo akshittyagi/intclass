{
 "cells": [
  {
   "cell_type": "code",
   "execution_count": 15,
   "metadata": {},
   "outputs": [],
   "source": [
    "import json\n",
    "import numpy as np\n",
    "from pprint import pprint\n",
    "\n",
    "with open('atistest.json') as f:\n",
    "    testa = json.load(f)\n",
    "    \n",
    "with open('atistrain.json') as f:\n",
    "    traina = json.load(f)\n",
    "    \n",
    "with open('atisdev.json') as f:\n",
    "    deva = json.load(f)"
   ]
  },
  {
   "cell_type": "code",
   "execution_count": 18,
   "metadata": {},
   "outputs": [
    {
     "name": "stdout",
     "output_type": "stream",
     "text": [
      "{'intent': 'flight',\n",
      " 'text': 'i would like to find a flight from charlotte to las vegas that makes '\n",
      "         'a stop in st. louis'}\n"
     ]
    }
   ],
   "source": [
    "pprint(testa['body'][0])"
   ]
  },
  {
   "cell_type": "code",
   "execution_count": 20,
   "metadata": {},
   "outputs": [],
   "source": [
    "testd = testa['body']\n",
    "traind = traina['body']\n",
    "devd = deva['body']\n",
    "\n",
    "#given a dictionary of text and intent, return the text in the list for tfidf\n",
    "def getCorp(dataset):\n",
    "    result = []\n",
    "    for sample in dataset:\n",
    "        result.append(sample['text'])\n",
    "    return result\n",
    "\n",
    "traint = getCorp(traind)\n",
    "testt = getCorp(testd)\n",
    "devt = getCorp(devd)\n",
    "\n",
    "\n"
   ]
  },
  {
   "cell_type": "code",
   "execution_count": 49,
   "metadata": {},
   "outputs": [],
   "source": [
    "from sklearn.feature_extraction.text import TfidfVectorizer\n",
    "\n",
    "vectorizer = TfidfVectorizer()\n",
    "trainX = vectorizer.fit_transform(traint)\n",
    "testX = vectorizer.transform(testt)\n",
    "devX = vectorizer.transform(devt)\n",
    "#devX = getX(devt)\n"
   ]
  },
  {
   "cell_type": "code",
   "execution_count": 50,
   "metadata": {},
   "outputs": [],
   "source": [
    "def getLabel(dataset):\n",
    "    result = []\n",
    "    for exp in dataset:\n",
    "        result.append(exp['intent'])\n",
    "        \n",
    "    return result\n",
    "\n",
    "testy = getLabel(testd)\n",
    "devy = getLabel(devd)\n",
    "trainy = getLabel(traind)     "
   ]
  },
  {
   "cell_type": "code",
   "execution_count": 54,
   "metadata": {},
   "outputs": [],
   "source": [
    "from sklearn.naive_bayes import MultinomialNB\n",
    "clf = MultinomialNB()\n",
    "clf.fit(trainX, trainy)\n",
    "\n",
    "y_predtest = clf.predict(testX)\n",
    "y_preddev = clf.predict(devX)\n"
   ]
  },
  {
   "cell_type": "code",
   "execution_count": 72,
   "metadata": {},
   "outputs": [
    {
     "data": {
      "text/plain": [
       "0.793952967525196"
      ]
     },
     "execution_count": 72,
     "metadata": {},
     "output_type": "execute_result"
    }
   ],
   "source": [
    "#get accuracy on the test set\n",
    "(testy == y_predtest).sum()/len(testd)\n",
    "#(devy == y_preddev).sum()/len(devd)"
   ]
  },
  {
   "cell_type": "code",
   "execution_count": 73,
   "metadata": {},
   "outputs": [
    {
     "name": "stdout",
     "output_type": "stream",
     "text": [
      "0.19801365329004605\n"
     ]
    }
   ],
   "source": [
    "from sklearn.metrics import f1_score\n",
    "m = f1_score(testy, y_predtest,  average='macro')\n",
    "print(m)"
   ]
  },
  {
   "cell_type": "code",
   "execution_count": 66,
   "metadata": {},
   "outputs": [
    {
     "name": "stdout",
     "output_type": "stream",
     "text": [
      "20\n"
     ]
    }
   ],
   "source": [
    "classlabs = list(set(testy.copy()))\n",
    "print(len(classlabs))"
   ]
  },
  {
   "cell_type": "code",
   "execution_count": 74,
   "metadata": {},
   "outputs": [
    {
     "name": "stdout",
     "output_type": "stream",
     "text": [
      "ground_fare 0.14642878612947982\n",
      "quantity 0.2727681523566062\n",
      "flight+airline 0.1783537573200327\n",
      "aircraft 0.20133958092803475\n",
      "distance 0.20133958092803475\n",
      "airline 0.2301023782034683\n",
      "ground_service 0.2420603210265964\n",
      "flight 0.4161587670800763\n",
      "meal 0.3550601142370219\n",
      "flight_no 0.17896851638047534\n",
      "flight_time 0.14642878612947982\n",
      "airfare+flight 0.1783537573200327\n",
      "airport 0.2301023782034683\n",
      "capacity 0.20133958092803475\n",
      "airfare 0.23010237820346827\n",
      "flight_no+airline 0.14687956485179163\n",
      "city 0.3550601142370219\n",
      "day_name 0.20133958092803475\n",
      "abbreviation 0.20807938354003816\n",
      "flight+airfare 0.1783537573200327\n"
     ]
    }
   ],
   "source": [
    "for label in classlabs:\n",
    "    print(label, f1_score(testy, y_predtest, label, average='macro'))"
   ]
  },
  {
   "cell_type": "code",
   "execution_count": 76,
   "metadata": {},
   "outputs": [
    {
     "name": "stdout",
     "output_type": "stream",
     "text": [
      "ground_fare 0.2526315789473684\n",
      "quantity 0.40986842105263155\n",
      "flight+airline 0.25540461000987313\n",
      "aircraft 0.34736842105263155\n",
      "distance 0.34736842105263155\n",
      "airline 0.39699248120300756\n",
      "ground_service 0.31743468519784307\n",
      "flight 0.5959440900230374\n",
      "meal 0.44473684210526315\n",
      "flight_no 0.30877192982456136\n",
      "flight_time 0.2526315789473684\n",
      "airfare+flight 0.25540461000987313\n",
      "airport 0.3969924812030075\n",
      "capacity 0.34736842105263155\n",
      "airfare 0.3969924812030075\n",
      "flight_no+airline 0.21033320824342497\n",
      "city 0.44473684210526315\n",
      "day_name 0.34736842105263155\n",
      "abbreviation 0.2979720450115187\n",
      "flight+airfare 0.25540461000987313\n"
     ]
    }
   ],
   "source": [
    "from sklearn.metrics import precision_score\n",
    "for label in classlabs:\n",
    "    print(label, precision_score(testy, y_predtest, label, average='macro'))"
   ]
  },
  {
   "cell_type": "code",
   "execution_count": 77,
   "metadata": {},
   "outputs": [
    {
     "name": "stdout",
     "output_type": "stream",
     "text": [
      "ground_fare 0.12223007587840123\n",
      "quantity 0.251399687666135\n",
      "flight+airline 0.1673534682986715\n",
      "aircraft 0.1680663543328017\n",
      "distance 0.1680663543328017\n",
      "airline 0.19207583352320196\n",
      "ground_service 0.23282965877486195\n",
      "flight 0.39049142603023346\n",
      "meal 0.30981691919191917\n",
      "flight_no 0.1493923149624904\n",
      "flight_time 0.12223007587840123\n",
      "airfare+flight 0.1673534682986715\n",
      "airport 0.19207583352320196\n",
      "capacity 0.1680663543328017\n",
      "airfare 0.19207583352320196\n",
      "flight_no+airline 0.1378205033047883\n",
      "city 0.30981691919191917\n",
      "day_name 0.1680663543328017\n",
      "abbreviation 0.19524571301511676\n",
      "flight+airfare 0.1673534682986715\n"
     ]
    }
   ],
   "source": [
    "from sklearn.metrics import recall_score\n",
    "for label in classlabs:\n",
    "    print(label, recall_score(testy, y_predtest, label, average='macro'))"
   ]
  },
  {
   "cell_type": "code",
   "execution_count": null,
   "metadata": {},
   "outputs": [],
   "source": []
  }
 ],
 "metadata": {
  "kernelspec": {
   "display_name": "Python 3",
   "language": "python",
   "name": "python3"
  },
  "language_info": {
   "codemirror_mode": {
    "name": "ipython",
    "version": 3
   },
   "file_extension": ".py",
   "mimetype": "text/x-python",
   "name": "python",
   "nbconvert_exporter": "python",
   "pygments_lexer": "ipython3",
   "version": "3.6.6"
  }
 },
 "nbformat": 4,
 "nbformat_minor": 2
}
